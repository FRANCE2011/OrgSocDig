{
 "cells": [
  {
   "cell_type": "code",
   "execution_count": 6,
   "metadata": {
    "colab": {
     "base_uri": "https://localhost:8080/",
     "height": 34
    },
    "colab_type": "code",
    "id": "gXGtDfh1AIWX",
    "outputId": "1f8e8b0a-bc81-4a40-b165-9acfa1aea6ba"
   },
   "outputs": [
    {
     "name": "stdout",
     "output_type": "stream",
     "text": [
      "order,name,height(cm)\n",
      "1,George Washington,189\n",
      "2,John Adams,170\n",
      "3,Thomas Jefferson,189\n",
      "4,James Madison,163\n",
      "5,James Monroe,183\n",
      "6,John Quincy Adams,171\n",
      "7,Andrew Jackson,185\n",
      "8,Martin Van Buren,168\n",
      "9,William Henry Harrison,173\n"
     ]
    }
   ],
   "source": [
    "!head -10 ../data/president_heights.csv\n",
    "import numpy as np"
   ]
  },
  {
   "cell_type": "markdown",
   "metadata": {
    "colab_type": "text",
    "id": "6S-UhHWwAIWd"
   },
   "source": [
    "We'll use the Pandas package, which we'll explore more fully in [Chapter 3](03.00-Introduction-to-Pandas.ipynb), to read the file and extract this information (note that the heights are measured in centimeters)."
   ]
  },
  {
   "cell_type": "code",
   "execution_count": 8,
   "metadata": {
    "colab": {},
    "colab_type": "code",
    "id": "GEfNwE6uAIWe",
    "outputId": "8c0eda32-eed3-48c9-bda8-5c27672d3f65"
   },
   "outputs": [
    {
     "name": "stdout",
     "output_type": "stream",
     "text": [
      "[189 170 189 163 183 171 185 168 173 183 173 173 175 178 183 193 178 173\n",
      " 174 183 183 168 170 178 182 180 183 178 182 188 175 179 183 193 182 183\n",
      " 177 185 188 188 182 185]\n"
     ]
    }
   ],
   "source": [
    "import pandas as pd\n",
    "data = pd.read_csv('../data/president_heights.csv')\n",
    "heights = np.array(data['height(cm)'])\n",
    "print(heights)"
   ]
  },
  {
   "cell_type": "code",
   "execution_count": 13,
   "metadata": {},
   "outputs": [
    {
     "name": "stdout",
     "output_type": "stream",
     "text": [
      "['George Washington' 'John Adams' 'Thomas Jefferson' 'James Madison'\n",
      " 'James Monroe' 'John Quincy Adams' 'Andrew Jackson' 'Martin Van Buren'\n",
      " 'William Henry Harrison' 'John Tyler' 'James K. Polk' 'Zachary Taylor'\n",
      " 'Millard Fillmore' 'Franklin Pierce' 'James Buchanan' 'Abraham Lincoln'\n",
      " 'Andrew Johnson' 'Ulysses S. Grant' 'Rutherford B. Hayes'\n",
      " 'James A. Garfield' 'Chester A. Arthur' 'Benjamin Harrison'\n",
      " 'William McKinley' 'Theodore Roosevelt' 'William Howard Taft'\n",
      " 'Woodrow Wilson' 'Warren G. Harding' 'Calvin Coolidge' 'Herbert Hoover'\n",
      " 'Franklin D. Roosevelt' 'Harry S. Truman' 'Dwight D. Eisenhower'\n",
      " 'John F. Kennedy' 'Lyndon B. Johnson' 'Richard Nixon' 'Gerald Ford'\n",
      " 'Jimmy Carter' 'Ronald Reagan' 'George H. W. Bush' 'Bill Clinton'\n",
      " 'George W. Bush' 'Barack Obama']\n"
     ]
    }
   ],
   "source": [
    "#possiamo ripetere l'operazione per altre colonne\n",
    "names = np.array(data['name'])\n",
    "print(names)"
   ]
  },
  {
   "cell_type": "markdown",
   "metadata": {
    "colab_type": "text",
    "id": "IO5FhajqAIWk"
   },
   "source": [
    "Now that we have this data array, we can compute a variety of summary statistics:"
   ]
  },
  {
   "cell_type": "code",
   "execution_count": 14,
   "metadata": {
    "colab": {},
    "colab_type": "code",
    "id": "QXTS1zmVAIWl",
    "outputId": "1d3883ba-ef27-48cc-9220-3ee15e77f358"
   },
   "outputs": [
    {
     "name": "stdout",
     "output_type": "stream",
     "text": [
      "Mean height:        179.73809523809524\n",
      "Standard deviation: 6.931843442745892\n",
      "Minimum height:     163\n",
      "Maximum height:     193\n"
     ]
    }
   ],
   "source": [
    "print(\"Mean height:       \", heights.mean())\n",
    "print(\"Standard deviation:\", heights.std())\n",
    "print(\"Minimum height:    \", heights.min())\n",
    "print(\"Maximum height:    \", heights.max())"
   ]
  },
  {
   "cell_type": "markdown",
   "metadata": {
    "colab_type": "text",
    "id": "BfgNPwdCAIWr"
   },
   "source": [
    "Note that in each case, the aggregation operation reduced the entire array to a single summarizing value, which gives us information about the distribution of values.\n",
    "We may also wish to compute quantiles:"
   ]
  },
  {
   "cell_type": "code",
   "execution_count": null,
   "metadata": {
    "colab": {},
    "colab_type": "code",
    "id": "2OQWbHBTAIWr",
    "outputId": "47655c7e-79c6-4268-cde2-11d6612b3d57"
   },
   "outputs": [
    {
     "name": "stdout",
     "output_type": "stream",
     "text": [
      "25th percentile:    174.25\n",
      "Median:             182.0\n",
      "75th percentile:    183.0\n"
     ]
    }
   ],
   "source": [
    "print(\"25th percentile:   \", np.percentile(heights, 25))\n",
    "print(\"Median:            \", np.median(heights))\n",
    "print(\"75th percentile:   \", np.percentile(heights, 75))"
   ]
  },
  {
   "cell_type": "code",
   "execution_count": 47,
   "metadata": {},
   "outputs": [
    {
     "name": "stdout",
     "output_type": "stream",
     "text": [
      "Obama:\n",
      "     order          name  height(cm)\n",
      "41     44  Barack Obama         185 \n",
      "\n",
      "Obama oppure Reagan:\n",
      "     order           name  height(cm)\n",
      "37     40  Ronald Reagan         185\n",
      "41     44   Barack Obama         185 \n",
      "\n",
      "Più alti di 180cm.:\n",
      "     order                   name  height(cm)\n",
      "0       1      George Washington         189\n",
      "2       3       Thomas Jefferson         189\n",
      "4       5           James Monroe         183\n",
      "6       7         Andrew Jackson         185\n",
      "9      10             John Tyler         183\n",
      "14     15         James Buchanan         183\n",
      "15     16        Abraham Lincoln         193\n",
      "19     20      James A. Garfield         183\n",
      "20     21      Chester A. Arthur         183\n",
      "24     27    William Howard Taft         182\n",
      "26     29      Warren G. Harding         183\n",
      "28     31         Herbert Hoover         182\n",
      "29     32  Franklin D. Roosevelt         188\n",
      "32     35        John F. Kennedy         183\n",
      "33     36      Lyndon B. Johnson         193\n",
      "34     37          Richard Nixon         182\n",
      "35     38            Gerald Ford         183\n",
      "37     40          Ronald Reagan         185\n",
      "38     41      George H. W. Bush         188\n",
      "39     42           Bill Clinton         188\n",
      "40     43         George W. Bush         182\n",
      "41     44           Barack Obama         185 \n",
      "\n",
      "I Roosevelt:\n",
      "     order                   name  height(cm)\n",
      "23     26     Theodore Roosevelt         178\n",
      "29     32  Franklin D. Roosevelt         188 \n",
      "\n",
      "I Roosevelt e i John:\n",
      "     order                   name  height(cm)\n",
      "1       2             John Adams         170\n",
      "5       6      John Quincy Adams         171\n",
      "9      10             John Tyler         183\n",
      "16     17         Andrew Johnson         178\n",
      "23     26     Theodore Roosevelt         178\n",
      "29     32  Franklin D. Roosevelt         188\n",
      "32     35        John F. Kennedy         183\n",
      "33     36      Lyndon B. Johnson         193 \n",
      "\n",
      "I Roosevelt e i John ma non Johnson:\n",
      "     order                   name  height(cm)\n",
      "1       2             John Adams         170\n",
      "5       6      John Quincy Adams         171\n",
      "9      10             John Tyler         183\n",
      "23     26     Theodore Roosevelt         178\n",
      "29     32  Franklin D. Roosevelt         188\n",
      "32     35        John F. Kennedy         183 \n",
      "\n",
      "I Roosevelt e i Johnson ma non i John:\n",
      "     order                   name  height(cm)\n",
      "16     17         Andrew Johnson         178\n",
      "23     26     Theodore Roosevelt         178\n",
      "29     32  Franklin D. Roosevelt         188\n",
      "33     36      Lyndon B. Johnson         193 \n",
      "\n"
     ]
    }
   ],
   "source": [
    "#vediamo ora come filtrare righe di un dataframe pandas usando la funzione loc()\n",
    "#Esempio 1: selezioniamo righe in base al valore \n",
    "print(\"Obama:\\n\", data.loc[data['name'] == 'Barack Obama'],\"\\n\")\n",
    "\n",
    "#Esempio 2: operatori booleani\n",
    "print(\"Obama e Reagan:\\n\", data.loc[(data['name'] == 'Barack Obama') | (data['name'] == 'Ronald Reagan')], \"\\n\")\n",
    "\n",
    "#Esempio 3: operatori logici\n",
    "print(\"Più alti di 180cm.:\\n\", data.loc[data['height(cm)'] > 180], \"\\n\")\n",
    "\n",
    "print(\"I Roosevelt:\\n\", data.loc[data['name'].str.contains('Roosevelt')], \"\\n\")\n",
    "\n",
    "print(\"I Roosevelt e i John:\\n\", \n",
    "      data.loc[data['name'].str.contains('Roosevelt') | \n",
    "               data['name'].str.contains('John')], \"\\n\")\n",
    "\n",
    "print(\"I Roosevelt e i John ma non Johnson:\\n\", \n",
    "      data.loc[data['name'].str.contains('Roosevelt') | \n",
    "               (data['name'].str.contains('John') & \n",
    "                ~data['name'].str.contains('Johnson'))], \"\\n\")\n",
    "\n",
    "print(\"I Roosevelt e i Johnson ma non i John:\\n\", \n",
    "      data.loc[data['name'].str.contains('Roosevelt') | \n",
    "               (data['name'].str.contains('Johnson') & \n",
    "                ~data['name'].str.match('John'))], \"\\n\")"
   ]
  },
  {
   "cell_type": "code",
   "execution_count": 27,
   "metadata": {},
   "outputs": [
    {
     "name": "stdout",
     "output_type": "stream",
     "text": [
      "Riga di indice 10 :\n",
      " order                    11\n",
      "name          James K. Polk\n",
      "height(cm)              173\n",
      "Name: 10, dtype: object \n",
      "\n",
      "Prime 10 righe :\n",
      "    order                    name  height(cm)\n",
      "0      1       George Washington         189\n",
      "1      2              John Adams         170\n",
      "2      3        Thomas Jefferson         189\n",
      "3      4           James Madison         163\n",
      "4      5            James Monroe         183\n",
      "5      6       John Quincy Adams         171\n",
      "6      7          Andrew Jackson         185\n",
      "7      8        Martin Van Buren         168\n",
      "8      9  William Henry Harrison         173\n",
      "9     10              John Tyler         183 \n",
      "\n",
      "Riga di indice 10 e di indice 15 :\n",
      "     order             name  height(cm)\n",
      "10     11    James K. Polk         173\n",
      "15     16  Abraham Lincoln         193 \n",
      "\n",
      "Righe dalla ventesima in poi :\n",
      "     order                   name  height(cm)\n",
      "19     20      James A. Garfield         183\n",
      "20     21      Chester A. Arthur         183\n",
      "21     23      Benjamin Harrison         168\n",
      "22     25       William McKinley         170\n",
      "23     26     Theodore Roosevelt         178\n",
      "24     27    William Howard Taft         182\n",
      "25     28         Woodrow Wilson         180\n",
      "26     29      Warren G. Harding         183\n",
      "27     30        Calvin Coolidge         178\n",
      "28     31         Herbert Hoover         182\n",
      "29     32  Franklin D. Roosevelt         188\n",
      "30     33        Harry S. Truman         175\n",
      "31     34   Dwight D. Eisenhower         179\n",
      "32     35        John F. Kennedy         183\n",
      "33     36      Lyndon B. Johnson         193\n",
      "34     37          Richard Nixon         182\n",
      "35     38            Gerald Ford         183\n",
      "36     39           Jimmy Carter         177\n",
      "37     40          Ronald Reagan         185\n",
      "38     41      George H. W. Bush         188\n",
      "39     42           Bill Clinton         188\n",
      "40     43         George W. Bush         182\n",
      "41     44           Barack Obama         185 \n",
      "\n"
     ]
    }
   ],
   "source": [
    "#Ora usiamo la funzione iloc() che usa l'indice di riga per filtrare\n",
    "#Esempio 1: una riga specifica (ATTENZIONE: L'INDICE PARTE DA 0)\n",
    "print(\"Riga di indice 10 :\\n\", data.iloc[10],\"\\n\")\n",
    "#Esempio 2: più righe, selezionate per indice\n",
    "print(\"Prime 10 righe :\\n\", data.iloc[0:10],\"\\n\")\n",
    "print(\"Riga di indice 10 e di indice 15 :\\n\", data.iloc[[10,15]],\"\\n\")\n",
    "print(\"Righe dalla ventesima in poi :\\n\", data.iloc[19:],\"\\n\")\n"
   ]
  },
  {
   "cell_type": "markdown",
   "metadata": {
    "colab_type": "text",
    "id": "3j82BiCnAIWx"
   },
   "source": [
    "We see that the median height of US presidents is 182 cm, or just shy of six feet.\n",
    "\n",
    "Of course, sometimes it's more useful to see a visual representation of this data, which we can accomplish using tools in Matplotlib (we'll discuss Matplotlib more fully in [Chapter 4](04.00-Introduction-To-Matplotlib.ipynb)). For example, this code generates the following chart:"
   ]
  },
  {
   "cell_type": "code",
   "execution_count": 7,
   "metadata": {
    "colab": {},
    "colab_type": "code",
    "id": "XvD3WUVYAIWx"
   },
   "outputs": [],
   "source": [
    "%matplotlib inline\n",
    "import matplotlib.pyplot as plt\n",
    "import seaborn; seaborn.set(style=\"ticks\", palette=\"bright\")  # set plot style"
   ]
  },
  {
   "cell_type": "markdown",
   "metadata": {
    "colab": {},
    "colab_type": "code",
    "id": "M-RSZ7f4AIW0",
    "outputId": "2d1a8b95-7c60-488d-9cb2-b8eb552b5631"
   },
   "source": [
    "plt.hist(heights, bins=20, histtype=\"step\", orientation=\"horizontal\")\n",
    "plt.title('Height Distribution of US Presidents')\n",
    "plt.xlabel('height (cm)')\n",
    "plt.ylabel('number');"
   ]
  },
  {
   "cell_type": "code",
   "execution_count": 20,
   "metadata": {},
   "outputs": [
    {
     "data": {
      "image/png": "[encoded data removed]",
      "text/plain": [
       "<Figure size 432x288 with 1 Axes>"
      ]
     },
     "metadata": {},
     "output_type": "display_data"
    }
   ],
   "source": [
    "seaborn.histplot(data=heights, binwidth=5, stat=\"probability\", color=\"darkred\", kde=\"true\", element=\n",
    "                \"step\")\n",
    "plt.show()"
   ]
  },
  {
   "cell_type": "markdown",
   "metadata": {
    "colab_type": "text",
    "id": "fxGqdyK0AIW5"
   },
   "source": [
    "These aggregates are some of the fundamental pieces of exploratory data analysis that we'll explore in more depth in later chapters of the book."
   ]
  }
 ],
 "metadata": {
  "anaconda-cloud": {},
  "colab": {
   "name": "02.04-Computation-on-arrays-aggregates.ipynb",
   "provenance": []
  },
  "kernelspec": {
   "display_name": "Python 3",
   "language": "python",
   "name": "python3"
  },
  "language_info": {
   "codemirror_mode": {
    "name": "ipython",
    "version": 3
   },
   "file_extension": ".py",
   "mimetype": "text/x-python",
   "name": "python",
   "nbconvert_exporter": "python",
   "pygments_lexer": "ipython3",
   "version": "3.8.3"
  }
 },
 "nbformat": 4,
 "nbformat_minor": 4
}

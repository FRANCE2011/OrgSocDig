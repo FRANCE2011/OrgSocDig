{
  "nbformat": 4,
  "nbformat_minor": 0,
  "metadata": {
    "colab": {
      "name": "Copia di Un benvenuto a Colaboratory",
      "provenance": [],
      "collapsed_sections": [],
      "toc_visible": true,
      "include_colab_link": true
    },
    "kernelspec": {
      "display_name": "Python 3",
      "name": "python3"
    }
  },
  "cells": [
    {
      "cell_type": "markdown",
      "metadata": {
        "id": "view-in-github",
        "colab_type": "text"
      },
      "source": [
        "<a href=\"https://colab.research.google.com/github/FRANCE2011/OrgSocDig/blob/master/Copia_di_Un_benvenuto_a_Colaboratory.ipynb\" target=\"_parent\"><img src=\"https://colab.research.google.com/assets/colab-badge.svg\" alt=\"Open In Colab\"/></a>"
      ]
    },
    {
      "cell_type": "markdown",
      "metadata": {
        "id": "5fCEDCU_qrC0"
      },
      "source": [
        "<p><img alt=\"Colaboratory logo\" height=\"45px\" src=\"/img/colab_favicon.ico\" align=\"left\" hspace=\"10px\" vspace=\"0px\"></p>\n",
        "\n",
        "<h1>Cos'è Colaboratory?</h1>\n",
        "\n",
        "Colaboratory o, in breve, \"Colab\" ti permette di scrivere ed eseguire codice Python nel tuo browser con i seguenti vantaggi:\n",
        "- Nessuna configurazione necessaria\n",
        "- Accesso gratuito alle GPU\n",
        "- Condivisione semplificata\n",
        "\n",
        "Che tu sia <strong>studente</strong>, <strong>data scientist</strong> o <strong>ricercatore AI</strong>, Colab può semplificarti il lavoro. Guarda <a href=\"https://www.youtube.com/watch?v=inN8seMm7UI\">questo video introduttivo su Colab</a> per ulteriori informazioni oppure inizia qui sotto."
      ]
    },
    {
      "cell_type": "markdown",
      "metadata": {
        "id": "GJBs_flRovLc"
      },
      "source": [
        "## <strong>Introduzione</strong>\n",
        "\n",
        "Il documento che stai leggendo non è una pagina web statica, ma un ambiente interattivo chiamato <strong>blocco note Colab</strong> che ti permette di scrivere ed eseguire codice.\n",
        "\n",
        "Ad esempio, qui vediamo una <strong>cella di codice</strong> con un breve script Python che calcola un valore, lo archivia in una variabile e stampa i risultati:"
      ]
    },
    {
      "cell_type": "code",
      "metadata": {
        "id": "gJr_9dXGpJ05",
        "outputId": "9f556d03-ec67-4950-a485-cfdba9ddd14d",
        "colab": {
          "base_uri": "https://localhost:8080/",
          "height": 34
        }
      },
      "source": [
        "seconds_in_a_day = 24 * 60 * 60\n",
        "seconds_in_a_day"
      ],
      "execution_count": null,
      "outputs": [
        {
          "output_type": "execute_result",
          "data": {
            "text/plain": [
              "86400"
            ]
          },
          "metadata": {
            "tags": []
          },
          "execution_count": 0
        }
      ]
    },
    {
      "cell_type": "markdown",
      "metadata": {
        "id": "2fhs6GZ4qFMx"
      },
      "source": [
        "Per eseguire il codice nella cella sopra, selezionala con un clic e poi premi il pulsante Riproduci a sinistra del codice o usa la scorciatoia da tastiera \"Comando/Ctrl+Invio\". Per modificare il codice, fai clic sulla cella e inizia a modificare.\n",
        "\n",
        "Le variabili che definisci in una cella possono essere usate in seguito in altre celle:"
      ]
    },
    {
      "cell_type": "code",
      "metadata": {
        "id": "-gE-Ez1qtyIA",
        "outputId": "94cb2224-0edf-457b-90b5-0ac3488d8a97",
        "colab": {
          "base_uri": "https://localhost:8080/",
          "height": 34
        }
      },
      "source": [
        "seconds_in_a_week = 7 * seconds_in_a_day\n",
        "seconds_in_a_week"
      ],
      "execution_count": null,
      "outputs": [
        {
          "output_type": "execute_result",
          "data": {
            "text/plain": [
              "604800"
            ]
          },
          "metadata": {
            "tags": []
          },
          "execution_count": 0
        }
      ]
    },
    {
      "cell_type": "markdown",
      "metadata": {
        "id": "lSrWNr3MuFUS"
      },
      "source": [
        "I blocchi note Colab ti permettono di combinare <strong>codice eseguibile</strong> e <strong>RTF</strong> in un unico documento, insieme a <strong>immagini</strong>, <strong>HTML</strong>, <strong>LaTeX</strong> e altro ancora. Quando crei dei blocchi note Colab, questi vengono archiviati nel tuo account Google Drive. Puoi condividere facilmente i blocchi note Colab con collaboratori o amici e dare loro la possibilità di commentare o modificare. Leggi ulteriori informazioni in <a href=\"/notebooks/basic_features_overview.ipynb\">Panoramica di Colab</a>. Per creare un nuovo blocco note Colab, puoi usare il menu File qui sopra o questo link: <a href=\"http://colab.research.google.com#create=true\">crea un nuovo blocco note Colab</a>.\n",
        "\n",
        "I blocchi note Colab sono blocchi note Jupyter ospitati da Colab. Per ulteriori informazioni sul progetto Jupyter, visita <a href=\"https://www.jupyter.org\">jupyter.org</a>."
      ]
    },
    {
      "cell_type": "markdown",
      "metadata": {
        "id": "UdRyKR44dcNI"
      },
      "source": [
        "## Data science\n",
        "\n",
        "Con Colab puoi sfruttare tutta la potenza delle librerie Python per analizzare e visualizzare i dati. La seguente cella di codice usa <strong>numpy</strong> per generare alcuni dati casuali e usa <strong>matplotlib</strong> per visualizzarli. Per modificare il codice, fai clic sulla cella e inizia a modificare."
      ]
    },
    {
      "cell_type": "code",
      "metadata": {
        "id": "C4HZx7Gndbrh",
        "outputId": "5a5e2e8b-c15c-46b1-9516-b7a28815c379",
        "colab": {
          "base_uri": "https://localhost:8080/",
          "height": 1000
        }
      },
      "source": [
        "import numpy as np\n",
        "from matplotlib import pyplot as plt\n",
        "\n",
        "ys = 200 + np.random.randn(100)\n",
        "x = [x for x in range(len(ys))]\n",
        "\n",
        "plt.plot(x, ys, '-')\n",
        "plt.fill_between(x, ys, 195, where=(ys > 195), facecolor='y', alpha=0.9)\n",
        "\n",
        "plt.title(\"grafico\")\n",
        "plt.show()\n",
        "print(\"Value YS=\", ys)\n",
        "print(\"Value len(ys)=\", len(ys))\n",
        "x = [1,2,3,4,5,6,7,8,9,10]\n",
        "print(\"Value X=\", x)\n",
        "ys = (ys*10)\n",
        "print(\"ys=\", ys)\n",
        "plt.fill_between(x, ys, 195, where=(ys > 195), facecolor='y', alpha=0.9)"
      ],
      "execution_count": null,
      "outputs": [
        {
          "output_type": "display_data",
          "data": {
            "image/png": "[encoded data removed]",
            "text/plain": [
              "<Figure size 432x288 with 1 Axes>"
            ]
          },
          "metadata": {
            "tags": [],
            "needs_background": "light"
          }
        },
        {
          "output_type": "stream",
          "text": [
            "Value YS= [200.10224471 200.04464057 200.1884997  199.89839445 200.67234044\n",
            " 200.77721061 200.55343904 198.82673716 200.2293012  200.45957998\n",
            " 200.93894164 200.16489397 199.74248227 200.06985591 199.45991629\n",
            " 200.39828551 200.01185153 198.8031817  200.63416924 200.61810704\n",
            " 199.46713128 198.86247731 200.29992754 200.11107769 199.84772012\n",
            " 198.956869   198.69264647 199.53040797 200.40902031 201.343756\n",
            " 199.59818427 199.07180093 199.44292702 199.68856162 202.02687553\n",
            " 200.29102667 200.44859042 199.93156238 200.07743436 199.45872275\n",
            " 199.36004969 198.46286862 199.610795   201.05033789 197.56644981\n",
            " 199.55828791 200.36798235 198.42933613 202.28977833 198.81240985\n",
            " 198.38726034 199.83403161 200.66553332 201.51457011 199.3093852\n",
            " 199.4726661  199.55074265 200.51911573 199.26873604 201.40256969\n",
            " 200.42587092 199.34010528 198.68793735 201.16047836 199.7513528\n",
            " 199.98358892 199.41838519 201.88422787 201.28711377 200.70611938\n",
            " 200.97249467 199.66233153 201.75395164 198.45263487 198.81271281\n",
            " 200.44032626 198.95029173 200.28496716 199.4678268  200.11985124\n",
            " 199.08788755 199.23147714 198.0185837  201.63547572 199.88367363\n",
            " 201.09183455 200.05438339 200.06334888 199.58459524 200.17083084\n",
            " 200.84019921 199.25857351 200.47626997 201.37110052 199.03594441\n",
            " 198.35222545 199.83170096 199.36640671 199.92721821 199.90092069]\n",
            "Value len(ys)= 100\n",
            "Value X= [1, 2, 3, 4, 5, 6, 7, 8, 9, 10]\n",
            "ys= [2001.02244708 2000.44640569 2001.88499698 1998.98394447 2006.72340436\n",
            " 2007.7721061  2005.53439036 1988.26737164 2002.29301196 2004.59579983\n",
            " 2009.38941638 2001.64893967 1997.4248227  2000.69855909 1994.59916288\n",
            " 2003.98285511 2000.11851533 1988.03181705 2006.34169245 2006.18107039\n",
            " 1994.67131279 1988.62477305 2002.99927537 2001.11077687 1998.47720122\n",
            " 1989.56869003 1986.92646469 1995.30407973 2004.09020312 2013.43755999\n",
            " 1995.9818427  1990.71800934 1994.42927016 1996.88561619 2020.26875533\n",
            " 2002.91026675 2004.48590422 1999.31562382 2000.77434364 1994.5872275\n",
            " 1993.6004969  1984.6286862  1996.10795    2010.50337892 1975.66449811\n",
            " 1995.5828791  2003.67982353 1984.2933613  2022.89778329 1988.12409846\n",
            " 1983.87260337 1998.34031607 2006.65533324 2015.1457011  1993.09385198\n",
            " 1994.72666098 1995.50742652 2005.19115728 1992.68736044 2014.02569688\n",
            " 2004.25870922 1993.40105277 1986.87937346 2011.60478363 1997.51352798\n",
            " 1999.83588916 1994.18385194 2018.84227869 2012.87113774 2007.06119385\n",
            " 2009.72494666 1996.62331529 2017.53951641 1984.52634867 1988.12712813\n",
            " 2004.40326255 1989.50291732 2002.84967161 1994.67826799 2001.19851241\n",
            " 1990.87887551 1992.3147714  1980.18583696 2016.35475721 1998.8367363\n",
            " 2010.91834546 2000.54383389 2000.63348882 1995.84595238 2001.70830843\n",
            " 2008.40199205 1992.58573507 2004.7626997  2013.71100522 1990.3594441\n",
            " 1983.52225453 1998.3170096  1993.66406705 1999.27218213 1999.00920688]\n"
          ],
          "name": "stdout"
        },
        {
          "output_type": "stream",
          "text": [
            "/usr/local/lib/python3.6/dist-packages/ipykernel_launcher.py:18: MatplotlibDeprecationWarning: The parameter where must have the same size as x in fill_between(). This will become an error in future versions of Matplotlib.\n"
          ],
          "name": "stderr"
        },
        {
          "output_type": "error",
          "ename": "ValueError",
          "evalue": "ignored",
          "traceback": [
            "\u001b[0;31m---------------------------------------------------------------------------\u001b[0m",
            "\u001b[0;31mValueError\u001b[0m                                Traceback (most recent call last)",
            "\u001b[0;32m<ipython-input-20-6b15e4a26d53>\u001b[0m in \u001b[0;36m<module>\u001b[0;34m()\u001b[0m\n\u001b[1;32m     16\u001b[0m \u001b[0mys\u001b[0m \u001b[0;34m=\u001b[0m \u001b[0;34m(\u001b[0m\u001b[0mys\u001b[0m\u001b[0;34m*\u001b[0m\u001b[0;36m10\u001b[0m\u001b[0;34m)\u001b[0m\u001b[0;34m\u001b[0m\u001b[0;34m\u001b[0m\u001b[0m\n\u001b[1;32m     17\u001b[0m \u001b[0mprint\u001b[0m\u001b[0;34m(\u001b[0m\u001b[0;34m\"ys=\"\u001b[0m\u001b[0;34m,\u001b[0m \u001b[0mys\u001b[0m\u001b[0;34m)\u001b[0m\u001b[0;34m\u001b[0m\u001b[0;34m\u001b[0m\u001b[0m\n\u001b[0;32m---> 18\u001b[0;31m \u001b[0mplt\u001b[0m\u001b[0;34m.\u001b[0m\u001b[0mfill_between\u001b[0m\u001b[0;34m(\u001b[0m\u001b[0mx\u001b[0m\u001b[0;34m,\u001b[0m \u001b[0mys\u001b[0m\u001b[0;34m,\u001b[0m \u001b[0;36m195\u001b[0m\u001b[0;34m,\u001b[0m \u001b[0mwhere\u001b[0m\u001b[0;34m=\u001b[0m\u001b[0;34m(\u001b[0m\u001b[0mys\u001b[0m \u001b[0;34m>\u001b[0m \u001b[0;36m195\u001b[0m\u001b[0;34m)\u001b[0m\u001b[0;34m,\u001b[0m \u001b[0mfacecolor\u001b[0m\u001b[0;34m=\u001b[0m\u001b[0;34m'y'\u001b[0m\u001b[0;34m,\u001b[0m \u001b[0malpha\u001b[0m\u001b[0;34m=\u001b[0m\u001b[0;36m0.9\u001b[0m\u001b[0;34m)\u001b[0m\u001b[0;34m\u001b[0m\u001b[0;34m\u001b[0m\u001b[0m\n\u001b[0m",
            "\u001b[0;32m/usr/local/lib/python3.6/dist-packages/matplotlib/pyplot.py\u001b[0m in \u001b[0;36mfill_between\u001b[0;34m(x, y1, y2, where, interpolate, step, data, **kwargs)\u001b[0m\n\u001b[1;32m   2558\u001b[0m     return gca().fill_between(\n\u001b[1;32m   2559\u001b[0m         \u001b[0mx\u001b[0m\u001b[0;34m,\u001b[0m \u001b[0my1\u001b[0m\u001b[0;34m,\u001b[0m \u001b[0my2\u001b[0m\u001b[0;34m=\u001b[0m\u001b[0my2\u001b[0m\u001b[0;34m,\u001b[0m \u001b[0mwhere\u001b[0m\u001b[0;34m=\u001b[0m\u001b[0mwhere\u001b[0m\u001b[0;34m,\u001b[0m \u001b[0minterpolate\u001b[0m\u001b[0;34m=\u001b[0m\u001b[0minterpolate\u001b[0m\u001b[0;34m,\u001b[0m \u001b[0mstep\u001b[0m\u001b[0;34m=\u001b[0m\u001b[0mstep\u001b[0m\u001b[0;34m,\u001b[0m\u001b[0;34m\u001b[0m\u001b[0;34m\u001b[0m\u001b[0m\n\u001b[0;32m-> 2560\u001b[0;31m         **({\"data\": data} if data is not None else {}), **kwargs)\n\u001b[0m\u001b[1;32m   2561\u001b[0m \u001b[0;34m\u001b[0m\u001b[0m\n\u001b[1;32m   2562\u001b[0m \u001b[0;34m\u001b[0m\u001b[0m\n",
            "\u001b[0;32m/usr/local/lib/python3.6/dist-packages/matplotlib/__init__.py\u001b[0m in \u001b[0;36minner\u001b[0;34m(ax, data, *args, **kwargs)\u001b[0m\n\u001b[1;32m   1563\u001b[0m     \u001b[0;32mdef\u001b[0m \u001b[0minner\u001b[0m\u001b[0;34m(\u001b[0m\u001b[0max\u001b[0m\u001b[0;34m,\u001b[0m \u001b[0;34m*\u001b[0m\u001b[0margs\u001b[0m\u001b[0;34m,\u001b[0m \u001b[0mdata\u001b[0m\u001b[0;34m=\u001b[0m\u001b[0;32mNone\u001b[0m\u001b[0;34m,\u001b[0m \u001b[0;34m**\u001b[0m\u001b[0mkwargs\u001b[0m\u001b[0;34m)\u001b[0m\u001b[0;34m:\u001b[0m\u001b[0;34m\u001b[0m\u001b[0;34m\u001b[0m\u001b[0m\n\u001b[1;32m   1564\u001b[0m         \u001b[0;32mif\u001b[0m \u001b[0mdata\u001b[0m \u001b[0;32mis\u001b[0m \u001b[0;32mNone\u001b[0m\u001b[0;34m:\u001b[0m\u001b[0;34m\u001b[0m\u001b[0;34m\u001b[0m\u001b[0m\n\u001b[0;32m-> 1565\u001b[0;31m             \u001b[0;32mreturn\u001b[0m \u001b[0mfunc\u001b[0m\u001b[0;34m(\u001b[0m\u001b[0max\u001b[0m\u001b[0;34m,\u001b[0m \u001b[0;34m*\u001b[0m\u001b[0mmap\u001b[0m\u001b[0;34m(\u001b[0m\u001b[0msanitize_sequence\u001b[0m\u001b[0;34m,\u001b[0m \u001b[0margs\u001b[0m\u001b[0;34m)\u001b[0m\u001b[0;34m,\u001b[0m \u001b[0;34m**\u001b[0m\u001b[0mkwargs\u001b[0m\u001b[0;34m)\u001b[0m\u001b[0;34m\u001b[0m\u001b[0;34m\u001b[0m\u001b[0m\n\u001b[0m\u001b[1;32m   1566\u001b[0m \u001b[0;34m\u001b[0m\u001b[0m\n\u001b[1;32m   1567\u001b[0m         \u001b[0mbound\u001b[0m \u001b[0;34m=\u001b[0m \u001b[0mnew_sig\u001b[0m\u001b[0;34m.\u001b[0m\u001b[0mbind\u001b[0m\u001b[0;34m(\u001b[0m\u001b[0max\u001b[0m\u001b[0;34m,\u001b[0m \u001b[0;34m*\u001b[0m\u001b[0margs\u001b[0m\u001b[0;34m,\u001b[0m \u001b[0;34m**\u001b[0m\u001b[0mkwargs\u001b[0m\u001b[0;34m)\u001b[0m\u001b[0;34m\u001b[0m\u001b[0;34m\u001b[0m\u001b[0m\n",
            "\u001b[0;32m/usr/local/lib/python3.6/dist-packages/matplotlib/axes/_axes.py\u001b[0m in \u001b[0;36mfill_between\u001b[0;34m(self, x, y1, y2, where, interpolate, step, **kwargs)\u001b[0m\n\u001b[1;32m   5168\u001b[0m                             \"future versions of Matplotlib.\")\n\u001b[1;32m   5169\u001b[0m         where = where & ~functools.reduce(np.logical_or,\n\u001b[0;32m-> 5170\u001b[0;31m                                           map(np.ma.getmask, [x, y1, y2]))\n\u001b[0m\u001b[1;32m   5171\u001b[0m \u001b[0;34m\u001b[0m\u001b[0m\n\u001b[1;32m   5172\u001b[0m         \u001b[0mx\u001b[0m\u001b[0;34m,\u001b[0m \u001b[0my1\u001b[0m\u001b[0;34m,\u001b[0m \u001b[0my2\u001b[0m \u001b[0;34m=\u001b[0m \u001b[0mnp\u001b[0m\u001b[0;34m.\u001b[0m\u001b[0mbroadcast_arrays\u001b[0m\u001b[0;34m(\u001b[0m\u001b[0mnp\u001b[0m\u001b[0;34m.\u001b[0m\u001b[0matleast_1d\u001b[0m\u001b[0;34m(\u001b[0m\u001b[0mx\u001b[0m\u001b[0;34m)\u001b[0m\u001b[0;34m,\u001b[0m \u001b[0my1\u001b[0m\u001b[0;34m,\u001b[0m \u001b[0my2\u001b[0m\u001b[0;34m)\u001b[0m\u001b[0;34m\u001b[0m\u001b[0;34m\u001b[0m\u001b[0m\n",
            "\u001b[0;31mValueError\u001b[0m: operands could not be broadcast together with shapes (10,) (100,) "
          ]
        },
        {
          "output_type": "display_data",
          "data": {
            "image/png": "[encoded data removed]",
            "text/plain": [
              "<Figure size 432x288 with 1 Axes>"
            ]
          },
          "metadata": {
            "tags": [],
            "needs_background": "light"
          }
        }
      ]
    },
    {
      "cell_type": "markdown",
      "metadata": {
        "id": "4_kCnsPUqS6o"
      },
      "source": [
        "Puoi importare i tuoi dati nei blocchi note Colab dal tuo account Google Drive, inclusi i fogli di lavoro, da GitHub e molte altre fonti. Per ulteriori informazioni sull'importazione dei dati e sulle possibilità di utilizzo di Colab per la data science, vedi i link di seguito, sotto <a href=\"#working-with-data\">Utilizzo dei dati</a>."
      ]
    },
    {
      "cell_type": "markdown",
      "metadata": {
        "id": "OwuxHmxllTwN"
      },
      "source": [
        "## Machine learning\n",
        "\n",
        "Con Colab puoi importare un set di dati immagine, addestrare un classificatore di immagini e valutare il modello, il tutto in <a href=\"https://colab.research.google.com/github/tensorflow/docs/blob/master/site/en/tutorials/quickstart/beginner.ipynb\">poche righe di codice</a>. I blocchi note Colab eseguono il codice sui server cloud di Google, il che significa che puoi utilizzare la potenza dell'hardware Google, tra cui <a href=\"#using-accelerated-hardware\">GPU e TPU</a>, a prescindere dalla potenza della tua macchina. Ti serve solo un browser."
      ]
    },
    {
      "cell_type": "markdown",
      "metadata": {
        "id": "ufxBm1yRnruN"
      },
      "source": [
        "Colab è ampiamente utilizzato dalla community del machine learning con applicazioni che includono:\n",
        "- Introduzione a TensorFlow\n",
        "- Sviluppo e addestramento di reti neurali\n",
        "- Esperimenti con TPU\n",
        "- Diffusione della ricerca sull'AI\n",
        "- Creazione di tutorial\n",
        "\n",
        "Per vedere degli esempi di blocchi note Colab che dimostrano le applicazioni di machine learning, vedi i seguenti <a href=\"#machine-learning-examples\">esempi di machine learning</a>."
      ]
    },
    {
      "cell_type": "markdown",
      "metadata": {
        "id": "-Rh3-Vt9Nev9"
      },
      "source": [
        "## Altre risorse\n",
        "\n",
        "### Utilizzo dei blocchi note in Colab\n",
        "- [Panoramica di Colaboratory](/notebooks/basic_features_overview.ipynb)\n",
        "- [Guida a Markdown](/notebooks/markdown_guide.ipynb)\n",
        "- [Importazione di librerie e installazione di dipendenze](/notebooks/snippets/importing_libraries.ipynb)\n",
        "- [Salvataggio e caricamento dei blocchi note in GitHub](https://colab.research.google.com/github/googlecolab/colabtools/blob/master/notebooks/colab-github-demo.ipynb)\n",
        "- [Moduli interattivi](/notebooks/forms.ipynb)\n",
        "- [Widget interattivi](/notebooks/widgets.ipynb)\n",
        "- <img src=\"/img/new.png\" height=\"20px\" align=\"left\" hspace=\"4px\" alt=\"New\"></img>\n",
        " [TensorFlow 2 in Colab](/notebooks/tensorflow_version.ipynb)\n",
        "\n",
        "<a name=\"working-with-data\"></a>\n",
        "### Utilizzo dei dati\n",
        "- [Caricamento dei dati: Drive, Fogli e Google Cloud Storage](/notebooks/io.ipynb) \n",
        "- [Grafici: visualizzare i dati](/notebooks/charts.ipynb)\n",
        "- [Introduzione a BigQuery](/notebooks/bigquery.ipynb)\n",
        "\n",
        "### Machine Learning Crash Course\n",
        "Ecco alcuni dei blocchi note dal corso online sul machine learning di Google. Vedi il <a href=\"https://developers.google.com/machine-learning/crash-course/\">sito web del corso completo</a> per ulteriori informazioni.\n",
        "- [Introduzione a Pandas](/notebooks/mlcc/intro_to_pandas.ipynb)\n",
        "- [Concetti di TensorFlow](/notebooks/mlcc/tensorflow_programming_concepts.ipynb)\n",
        "- [Primi passi con TensorFlow](/notebooks/mlcc/first_steps_with_tensor_flow.ipynb)\n",
        "- [Introduzione alle reti neurali](/notebooks/mlcc/intro_to_neural_nets.ipynb)\n",
        "- [Introduzione a dati sparsi e rappresentazioni distribuite](/notebooks/mlcc/intro_to_sparse_data_and_embeddings.ipynb)\n",
        "\n",
        "<a name=\"using-accelerated-hardware\"></a>\n",
        "### Utilizzo di hardware accelerato\n",
        "- [TensorFlow con GPU](/notebooks/gpu.ipynb)\n",
        "- [TensorFlow con TPU](/notebooks/tpu.ipynb)"
      ]
    },
    {
      "cell_type": "markdown",
      "metadata": {
        "id": "P-H6Lw1vyNNd"
      },
      "source": [
        "<a name=\"machine-learning-examples\"></a>\n",
        "\n",
        "## Esempi di machine learning\n",
        "\n",
        "Per vedere esempi completi delle analisi di machine learning interattive che è possibile effettuare con Colaboratory, segui questi tutorial che usano modelli di <a href=\"https://tfhub.dev\">TensorFlow Hub</a>.\n",
        "\n",
        "Alcuni esempi in primo piano:\n",
        "\n",
        "- <a href=\"https://tensorflow.org/hub/tutorials/tf2_image_retraining\">Riaddestramento di un classificatore di immagini</a>: crea un modello Keras utilizzando un classificatore di immagini preaddestrato per distinguere i fiori.\n",
        "- <a href=\"https://tensorflow.org/hub/tutorials/tf2_text_classification\">Classificazione del testo</a>: classifica le recensioni dei film IMDB come <em>positive</em> o <em>negative</em>.\n",
        "- <a href=\"https://tensorflow.org/hub/tutorials/tf2_arbitrary_image_stylization\">Trasferimento dello stile</a>: usa il deep learning per trasferire lo stile da un'immagine all'altra.\n",
        "- <a href=\"https://tensorflow.org/hub/tutorials/retrieval_with_tf_hub_universal_encoder_qa\">Multilingual Universal Sentence Encoder Q&amp;A</a>: usa un modello di machine learning per rispondere alle domande del set di dati SQuAD.\n",
        "- <a href=\"https://tensorflow.org/hub/tutorials/tweening_conv3d\">Interpolazione video</a>: prevedi gli eventi di un video tra il primo e l'ultimo frame.\n"
      ]
    },
    {
      "cell_type": "markdown",
      "metadata": {
        "id": "5AoG-jolnPaW"
      },
      "source": [
        "# Nuova sezione"
      ]
    }
  ]
}